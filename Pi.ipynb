{
 "cells": [
  {
   "cell_type": "markdown",
   "metadata": {},
   "source": [
    "Here we will write a program which finds the Pi of a Nth number"
   ]
  },
  {
   "cell_type": "code",
   "execution_count": 22,
   "metadata": {},
   "outputs": [],
   "source": [
    "import math"
   ]
  },
  {
   "cell_type": "code",
   "execution_count": 23,
   "metadata": {},
   "outputs": [],
   "source": [
    "l = 50"
   ]
  },
  {
   "cell_type": "code",
   "execution_count": 25,
   "metadata": {},
   "outputs": [
    {
     "name": "stdout",
     "output_type": "stream",
     "text": [
      "Friendly reminder: Enter 0 to 50 only. Press q anytime to exit\n"
     ]
    }
   ],
   "source": [
    "print(\"Friendly reminder: Enter 0 to \"+str(l)+\" only. Press q anytime to exit\")"
   ]
  },
  {
   "cell_type": "code",
   "execution_count": 27,
   "metadata": {},
   "outputs": [],
   "source": [
    "p = input(\"For Pi, how many decimal places would you like?\")"
   ]
  },
  {
   "cell_type": "code",
   "execution_count": 26,
   "metadata": {},
   "outputs": [],
   "source": [
    "c = 1"
   ]
  },
  {
   "cell_type": "code",
   "execution_count": 28,
   "metadata": {},
   "outputs": [
    {
     "name": "stdout",
     "output_type": "stream",
     "text": [
      "Pi = 3.14159\n",
      "Pi = 3.1415926536\n",
      "Not a valid entry. Auto-restarted. Enter 0 to 50 only. Press q anytime to exit.\n",
      "Pi = 3.14159265358979311600\n",
      "You pressed n or q to exit. Good bye!! See you next time.\n"
     ]
    }
   ],
   "source": [
    "while c:\n",
    "    try:\n",
    "        a = int(p)\n",
    "    except ValueError:\n",
    "        if p == \"q\":\n",
    "            print(\"You pressed q to exit. Good bye!! See you next time.\")\n",
    "            break\n",
    "        else:\n",
    "            print(\"Not a valid number. Enter 0 to \"+str(l)+\" only. Press q anytime to exit.\")\n",
    "            p = input(\"For Pi, how many decimal places would you like?\")\n",
    "            c = 1\n",
    "    else:\n",
    "        if int(p) > 50 or int(p) < 0:\n",
    "            print(\"Number out of range. Enter 0 to \"+str(l)+\" only. Press q anytime to exit.\")\n",
    "            p = input(\"For Pi, how many decimal places would you like?\")\n",
    "        else:\n",
    "            b = \"{:.\"+str(p)+ \"f}\"\n",
    "            print(\"Pi = \"+b.format(math.pi))\n",
    "            w = input(\"Very neat...., right? Press y to run it again. Press n or q to exit.\")\n",
    "            if w == \"y\" or w == \"Y\":\n",
    "                c = 1\n",
    "                p = input(\"For Pi, how many decimal places would you like?\")\n",
    "            elif w == \"n\" or w == \"N\" or w == \"q\" or w == \"Q\":\n",
    "                c = 0\n",
    "                print(\"You pressed n or q to exit. Good bye!! See you next time.\")\n",
    "            else:\n",
    "                print(\"Not a valid entry. Auto-restarted. Enter 0 to \"+str(l)+\" only. Press q anytime to exit.\")\n",
    "                p = input(\"For Pi, how many decimal places would you like?\")\n",
    "                c = 1"
   ]
  },
  {
   "cell_type": "code",
   "execution_count": null,
   "metadata": {},
   "outputs": [],
   "source": []
  }
 ],
 "metadata": {
  "kernelspec": {
   "display_name": "Python 3",
   "language": "python",
   "name": "python3"
  },
  "language_info": {
   "codemirror_mode": {
    "name": "ipython",
    "version": 3
   },
   "file_extension": ".py",
   "mimetype": "text/x-python",
   "name": "python",
   "nbconvert_exporter": "python",
   "pygments_lexer": "ipython3",
   "version": "3.6.4"
  }
 },
 "nbformat": 4,
 "nbformat_minor": 2
}
